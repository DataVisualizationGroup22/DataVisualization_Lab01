{
 "cells": [
  {
   "cell_type": "markdown",
   "id": "cd5f7c1a-efb2-4bac-915e-13e739041de9",
   "metadata": {},
   "source": []
  },
  {
   "cell_type": "markdown",
   "id": "b8ce9c27-796e-4410-8034-bad965b2c485",
   "metadata": {},
   "source": [
    "# A. THU THẬP DỮ LIỆU"
   ]
  },
  {
   "cell_type": "markdown",
   "id": "c942636a-3646-479c-b553-f2b6493e324b",
   "metadata": {},
   "source": [
    "## I. Giới thiệu chủ đề và thông tin tập dữ liệu"
   ]
  },
  {
   "cell_type": "markdown",
   "id": "a70d3c4f-ee2b-4fa0-916e-c4b6b95e65bc",
   "metadata": {},
   "source": [
    "### 1. Chủ đề"
   ]
  },
  {
   "cell_type": "markdown",
   "id": "d0d81ac3-13db-4c86-988d-1a9d0cb70372",
   "metadata": {},
   "source": [
    "Tên chủ đề: Employee Attrition and Factors\n",
    "\n",
    "Tạm dịch: Các yếu tố ảnh hưởng đến sự tiêu hao nhân viên\n",
    "\n"
   ]
  },
  {
   "cell_type": "markdown",
   "id": "66fc0e42-49d3-42bd-8496-265dd49955fe",
   "metadata": {},
   "source": [
    "### 2. Ngữ cảnh tìm kiếm dữ liệu"
   ]
  },
  {
   "cell_type": "markdown",
   "id": "431b65c4-1529-42e3-90c3-d049b1ac9a80",
   "metadata": {},
   "source": [
    "Trong môi trường làm việc, Employee Attrition diễn tả việc tiêu hao lực lượng lao động không được dự báo trước. Nguyên nhân của của sự sụt giảm này đều là những lý do không thể tránh được như nghỉ hưu, từ chức, nhân viên mất sức lao động hay đột ngột qua đời. Những công ty có tỷ lệ tiêu hao lực lượng lao động cao thường phải đối mặt với nguy cơ lạm dụng nguồn lực nội bộ.\n",
    "\n",
    "Nhận thấy, có rất nhiều nguyên nhân khác nhau khiến cho tỷ lệ tiêu hao lực lượng lao động cao ở các doanh nghiệp. Ví dụ như:\n",
    "\n",
    "- Điều kiện làm việc không đảm bảo.\n",
    "- Mức lương quá thấp.\n",
    "- Công việc không phù hợp với sở thích.\n",
    "- Không có tương lai phát triển sự nghiệp.\n",
    "- Không thể cân bằng giữa công việc và cuộc sống.\n",
    "- Thiếu sự nhìn nhận và đánh giá đúng mực đối với nhân viên từ phía những người quản lý.\n",
    "\n",
    "Tỷ lệ tiêu hao lực lượng lao động là một chỉ số quan trọng trong quản trị nguồn nhân lực, có thể cho thấy các vấn đề còn tồn đọng cần phải được giải quyết. Attrition rate thấp cho thấy công ty đang đi đúng hướng. Ngược lại, attrition rate cao là điều không công ty nào mong muốn.\n",
    "\n",
    "Do đó, nhóm chọn chủ đề và bộ dữ liệu này nhằm mục đích:\n",
    "\n",
    "- Khám phá ra các yếu tố ảnh hưởng đến sự tiêu hao nhân viên từ đó đưa ra các biện pháp nhằm làm giảm tỷ lệ này.\n",
    "- Xây dựng mô hình học máy dựa trên các yếu tố của nhân viên để dự đoán xem liệu nhân viên đó có khả năng tiêu hao hay không?"
   ]
  },
  {
   "cell_type": "markdown",
   "id": "68dbfb95-17a6-4133-bc16-ce4c8f8c9504",
   "metadata": {},
   "source": [
    "### 3. Thông tin bộ dữ liệu"
   ]
  },
  {
   "cell_type": "markdown",
   "id": "165b3eba-7b7b-465a-80db-c145a9ea8996",
   "metadata": {},
   "source": [
    "**Nguồn gốc:**\n",
    "\n",
    "Bộ dữ liệu được tìm thấy trên Kaggle: https://www.kaggle.com/datasets/thedevastator/employee-attrition-and-factors\n",
    "\n",
    "**Người đăng tải:** The Devastator\n",
    "\n",
    "**Phương pháp thu thập:**\n",
    "\n",
    "Đây là một tập dữ liệu hư cấu được tạo bởi các nhà khoa học dữ liệu IBM. Bộ dữ liệu này nhằm phục vụ cho mục đích nghiên cứu và khám phá ra các yếu tố dẫn đến sự tiêu hao của nhân viên hoặc xây dựng các mô hình học máy để dự đoán sự tiêu hao nhân viên.\n",
    "\n",
    "**Giấy phép:** CC0 1.0 Universal (CC0 1.0) - Public Domain Dedication\n",
    "   \n",
    "No Copyright - Bạn có thể sao chép, sửa đổi, phân phối và thực hiện công việc, ngay cả cho mục đích thương mại, tất cả mà không cần xin phép."
   ]
  },
  {
   "cell_type": "markdown",
   "id": "fd7e8b3f-74ee-4fc7-9263-1846a41fea1e",
   "metadata": {},
   "source": [
    "## II. Cấu trúc bộ dữ liệu"
   ]
  },
  {
   "cell_type": "markdown",
   "id": "601a2465-b93c-48fe-a229-fbc035a27a3e",
   "metadata": {},
   "source": [
    "Bộ dữ liệu này cung cấp một phân tích toàn diện và đa dạng về nhân viên của một tổ chức, tập trung vào các lĩnh vực như sự tiêu hao của nhân viên, các yếu tố cá nhân và liên quan đến công việc cũng như tài chính. Bao gồm nhiều 35 thuộc tính và ý nghĩa các thuộc tính như sau:\n",
    "\n",
    "|STT  | Tên thuộc tính |  Ý nghĩa |\n",
    "|:---| :---         |:---      |\n",
    "| 1  | Age  | Tuổi của nhân viên |\n",
    "| 2  | Gender  | Giới tính của nhân viên |\n",
    "| 3  | BusinessTravel  | Tần suất đi công tác của nhân viên |\n",
    "| 4  | DailyRate  | Tỷ lệ lương hàng ngày cho nhân viên |\n",
    "| 5  | Department  | Phòng ban làm việc của nhân viên |\n",
    "| 6  | DistanceFromHome  | Khoảng cách từ nhà theo dặm đến nơi làm việc |\n",
    "| 7  | Education  | Mức độ giáo dục đạt được bởi nhân viên |\n",
    "| 8  | EducationField  | Lĩnh vực học tập của nhân viên |\n",
    "| 9  | EmployeeCount  | Tổng số nhân viên trong tổ chức |\n",
    "| 10  | EmployeeNumber  | Một định danh duy nhất cho mỗi hồ sơ nhân viên |\n",
    "| 11  | EnvironmentSatisfaction  | Sự hài lòng của nhân viên với môi trường làm việc của họ |\n",
    "| 12  | HourlyRate  | Tỷ lệ lương hàng giờ cho nhân viên |\n",
    "| 13  | JobInvolvement | Mức độ tham gia cần thiết cho công việc của nhân viên |\n",
    "| 14  | JobLevel  | Mức độ công việc của nhân viên |\n",
    "| 15  | JobRole | Vai trò của nhân viên trong tổ chức |\n",
    "| 16  | JobSatisfaction  | Sự hài lòng của nhân viên với công việc của họ |\n",
    "| 17  | MaritalStatus  | Tình trạng hôn nhân của nhân viên |\n",
    "| 18  | MonthlyIncome  | Thu nhập hàng tháng của nhân viên |\n",
    "| 19  | MonthlyRate  | Tỷ lệ lương hàng tháng cho nhân viên |\n",
    "| 20  | NumCompaniesWorked  | Số lượng công ty mà nhân viên đã làm việc cho |\n",
    "| 21  | Over18  | Nhân viên có trên 18 tuổi hay không |\n",
    "| 22  | OverTime  | Nhân viên có tăng ca làm việc hay không |\n",
    "| 23  | PercentSalaryHike  | Tỷ lệ tăng lương cho nhân viên |\n",
    "| 24  | PerformanceRating  | The performance rating of the employee |\n",
    "| 25  | RelationshipSatisfaction  | Sự hài lòng của nhân viên với các mối quan hệ của họ |\n",
    "| 26  | StandardHours  | Giờ làm việc tiêu chuẩn cho nhân viên |\n",
    "| 27  | StockOptionLevel  | Mức tùy chọn cổ phiếu của nhân viên |\n",
    "| 28  | TotalWorkingYears  | Tổng số năm mà nhân viên đã làm việc |\n",
    "| 29  | TrainingTimesLastYear  | Số lần nhân viên được thực hiện để đào tạo trong năm ngoái |\n",
    "| 30  | WorkLifeBalance  | Nhận thức của nhân viên về cân bằng cuộc sống công việc của họ |\n",
    "| 31  | YearsAtCompany  | Số năm nhân viên đã ở cùng với công ty |\n",
    "| 32  | YearsInCurrentRole  | Số năm mà nhân viên đã ở trong vai trò hiện tại của họ |\n",
    "| 33  | YearsSinceLastPromotion  | Số năm kể từ khi thăng chức cuối cùng của nhân viên |\n",
    "| 34  | YearsWithCurrManager  | Số năm mà nhân viên đã làm với người quản lý hiện tại của họ |\n",
    "| 35  | Attrition  | Nhân viên có rời khỏi tổ chức hay không  |\n",
    "\n",
    "\n",
    "\n",
    "\n"
   ]
  }
 ],
 "metadata": {
  "kernelspec": {
   "display_name": "Python 3 (ipykernel)",
   "language": "python",
   "name": "python3"
  },
  "language_info": {
   "codemirror_mode": {
    "name": "ipython",
    "version": 3
   },
   "file_extension": ".py",
   "mimetype": "text/x-python",
   "name": "python",
   "nbconvert_exporter": "python",
   "pygments_lexer": "ipython3",
   "version": "3.9.13"
  }
 },
 "nbformat": 4,
 "nbformat_minor": 5
}
